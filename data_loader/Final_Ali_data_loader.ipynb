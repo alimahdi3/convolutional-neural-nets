{
  "nbformat": 4,
  "nbformat_minor": 0,
  "metadata": {
    "colab": {
      "name": "Final_Ali_data_loader.ipynb",
      "provenance": [],
      "collapsed_sections": []
    },
    "kernelspec": {
      "name": "python3",
      "display_name": "Python 3"
    },
    "language_info": {
      "name": "python"
    },
    "accelerator": "GPU"
  },
  "cells": [
    {
      "cell_type": "code",
      "metadata": {
        "colab": {
          "base_uri": "https://localhost:8080/"
        },
        "id": "yXFeExS2YOFU",
        "outputId": "5b78f0ab-564f-4b4e-e9d7-8fbdde63b58f"
      },
      "source": [
        "from google.colab import drive\n",
        "drive.mount('insert_path_here')\n",
        "import sys\n",
        "sys.path\n",
        "sys.path.append('insert_path_here')\n",
        "sys.path.append('insert_path_here')\n",
        "import numpy as np\n",
        "import matplotlib.pyplot as plt\n",
        "import Dans_Diffraction as dif\n",
        "import re\n",
        "import matplotlib.pyplot as plt\n",
        "import pandas as pd\n",
        "import io\n",
        "import torch.nn as nn\n",
        "import torch.optim as optim\n",
        "import torch\n",
        "dtype = torch.float32\n",
        "device = torch.device(\"cpu\")\n",
        "import torch.nn.functional as F \n"
      ],
      "execution_count": null,
      "outputs": [
        {
          "output_type": "stream",
          "text": [
            "Drive already mounted at /content/gdrive; to attempt to forcibly remount, call drive.mount(\"/content/gdrive\", force_remount=True).\n"
          ],
          "name": "stdout"
        }
      ]
    },
    {
      "cell_type": "code",
      "metadata": {
        "id": "MptGxvmmtaGw"
      },
      "source": [
        "# Import Data \n",
        "directory = 'insert_path_here'\n",
        "shifted_phase = np.load(directory + 'phase_v2.npy')\n",
        "shifted_amplitude = np.load(directory + 'amp_v2.npy')\n",
        "shift_vector = np.load(directory + 'shift_v2.npy')"
      ],
      "execution_count": null,
      "outputs": []
    },
    {
      "cell_type": "code",
      "metadata": {
        "id": "5m0zNnARKZoY"
      },
      "source": [
        "shifted_phase = np.load(directory + 'phase_v2.npy')\n",
        "shifted_amplitude = np.load(directory + 'amp_v2.npy')\n",
        "shift_vector = np.load(directory + 'shift_v2.npy')"
      ],
      "execution_count": null,
      "outputs": []
    },
    {
      "cell_type": "code",
      "metadata": {
        "colab": {
          "base_uri": "https://localhost:8080/"
        },
        "id": "F55fIdM_tuYd",
        "outputId": "c7f45fd0-0015-425f-f904-a01f9bb9eccb"
      },
      "source": [
        "# Create labels for the input data\n",
        "correct_label_vector = np.zeros(shift_vector.shape[0])\n",
        "for i in range(16):\n",
        "  correct_label_vector[i*1000:(i+1)*1000] = i"
      ],
      "execution_count": null,
      "outputs": [
        {
          "output_type": "stream",
          "text": [
            "0.0\n",
            "2.0\n",
            "12.0\n"
          ],
          "name": "stdout"
        }
      ]
    },
    {
      "cell_type": "code",
      "metadata": {
        "colab": {
          "base_uri": "https://localhost:8080/"
        },
        "id": "u-Z-nA4y0i9M",
        "outputId": "1a4a7e79-6ace-448e-f464-a66b48026f77"
      },
      "source": [
        "# Define training and validation sets\n",
        "num_folds = 10\n",
        "val_set_end = len(correct_label_vector)\n",
        "val_set_begin = len(correct_label_vector) - int((len(correct_label_vector)/num_folds))\n",
        "val_set_length = val_set_end - val_set_begin\n",
        "\n",
        "shuffle_ind=np.random.permutation(shifted_amplitude.shape[0])\n",
        "shuffled_amps=shifted_amplitude[shuffle_ind]\n",
        "shuffled_circ=shifted_phase[shuffle_ind]\n",
        "val_set_target = shuffled_circ[val_set_begin: val_set_end]\n",
        "val_set_input = shuffled_amps[val_set_begin: val_set_end]\n",
        "val_set_input = val_set_input.reshape(val_set_input.shape[0], 1, val_set_input.shape[1], val_set_input.shape[2])\n",
        "\n",
        "train_set_target = shuffled_circ[0: val_set_begin]\n",
        "train_set_input = shuffled_amps[0: val_set_begin]\n",
        "train_set_input = train_set_input.reshape(train_set_input.shape[0], 1, train_set_input.shape[1], train_set_input.shape[2])\n"
      ],
      "execution_count": null,
      "outputs": [
        {
          "output_type": "stream",
          "text": [
            "1600\n",
            "1600\n",
            "14400\n",
            "14400\n"
          ],
          "name": "stdout"
        }
      ]
    },
    {
      "cell_type": "code",
      "metadata": {
        "id": "fDOfW_801XfR"
      },
      "source": [
        "# Convert data to lists\n",
        "train_set_input = train_set_input.tolist()\n",
        "val_set_input = val_set_input.tolist()\n",
        "train_set_target = train_set_target.tolist()\n",
        "val_set_target = val_set_target.tolist()"
      ],
      "execution_count": null,
      "outputs": []
    },
    {
      "cell_type": "code",
      "metadata": {
        "id": "8ibqzx131tNz"
      },
      "source": [
        "# Convert data to maps\n",
        "train_set_input = list(map(str, train_set_input))"
      ],
      "execution_count": null,
      "outputs": []
    },
    {
      "cell_type": "code",
      "metadata": {
        "id": "3LZRwe2FF9f4"
      },
      "source": [
        "val_set_input = list(map(str, val_set_input))"
      ],
      "execution_count": null,
      "outputs": []
    },
    {
      "cell_type": "code",
      "metadata": {
        "id": "5auG25TYG7bu"
      },
      "source": [
        "shuffled_amp_list = list(map(str, shuffled_amps))"
      ],
      "execution_count": null,
      "outputs": []
    },
    {
      "cell_type": "code",
      "metadata": {
        "id": "tLTIQkENHP-N"
      },
      "source": [
        "shuffled_circ_list = shuffled_circ.tolist()"
      ],
      "execution_count": null,
      "outputs": []
    },
    {
      "cell_type": "code",
      "metadata": {
        "id": "2kv1qF4uYReQ"
      },
      "source": [
        "import torch\n",
        "# Create Dataset class for input data\n",
        "class Dataset(torch.utils.data.Dataset):\n",
        "  'Characterizes a dataset for PyTorch'\n",
        "  def __init__(self, labels, shifted_amplitude):\n",
        "        'Initialization'\n",
        "        self.all_data = torch.from_numpy(shifted_amplitude)\n",
        "        #self.labels = labels\n",
        "        self.labels = labels\n",
        "        #self.list_IDs = list_IDs\n",
        "\n",
        "  def __len__(self):\n",
        "        'Denotes the total number of samples'\n",
        "        return len(self.all_data)\n",
        "\n",
        "  def __getitem__(self, index):\n",
        "        'Generates one sample of data'\n",
        "        # Select sample\n",
        "        X = self.all_data[index]\n",
        "\n",
        "        # Load data and get label\n",
        "        y = self.labels[index]\n",
        "\n",
        "        return X, y\n"
      ],
      "execution_count": null,
      "outputs": []
    }
  ]
}